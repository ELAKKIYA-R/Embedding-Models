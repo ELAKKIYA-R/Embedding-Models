{
  "nbformat": 4,
  "nbformat_minor": 0,
  "metadata": {
    "colab": {
      "provenance": []
    },
    "kernelspec": {
      "name": "python3",
      "display_name": "Python 3"
    },
    "language_info": {
      "name": "python"
    }
  },
  "cells": [
    {
      "cell_type": "code",
      "execution_count": 1,
      "metadata": {
        "id": "HjkIthRQfnOr"
      },
      "outputs": [],
      "source": [
        "import warnings\n",
        "warnings.filterwarnings('ignore')"
      ]
    },
    {
      "cell_type": "code",
      "source": [
        "import numpy as np\n",
        "import matplotlib.pyplot as plt\n",
        "from sklearn.decomposition import PCA\n",
        "from sklearn.metrics.pairwise import cosine_similarity\n",
        "import torch\n",
        "from transformers import BertTokenizer, BertModel"
      ],
      "metadata": {
        "id": "SNX4Z_XGgLKt"
      },
      "execution_count": 2,
      "outputs": []
    },
    {
      "cell_type": "markdown",
      "source": [
        "**GloVe Word Embeddings**"
      ],
      "metadata": {
        "id": "abaEkl6cg3Az"
      }
    },
    {
      "cell_type": "code",
      "source": [
        "import gensim.downloader as api\n",
        "word_vectors = api.load('glove-wiki-gigaword-100')"
      ],
      "metadata": {
        "id": "PwNac8lYg2AH"
      },
      "execution_count": 3,
      "outputs": []
    },
    {
      "cell_type": "code",
      "source": [
        "import gensim.downloader as api\n",
        "word_vectors = api.load('word2vec-google-news-300')"
      ],
      "metadata": {
        "id": "TeoT2HUiho6H"
      },
      "execution_count": null,
      "outputs": []
    },
    {
      "cell_type": "code",
      "source": [
        "word_vectors['king'].shape"
      ],
      "metadata": {
        "colab": {
          "base_uri": "https://localhost:8080/"
        },
        "id": "4aXwNW7SiL1B",
        "outputId": "01241375-bcee-4183-b6d2-840c95443836"
      },
      "execution_count": 4,
      "outputs": [
        {
          "output_type": "execute_result",
          "data": {
            "text/plain": [
              "(100,)"
            ]
          },
          "metadata": {},
          "execution_count": 4
        }
      ]
    },
    {
      "cell_type": "code",
      "source": [
        "word_vectors['king'][:20]"
      ],
      "metadata": {
        "colab": {
          "base_uri": "https://localhost:8080/"
        },
        "id": "DeNDjnbTig1u",
        "outputId": "88a4b6c1-1a22-4101-956e-ef9d0c1204fa"
      },
      "execution_count": 5,
      "outputs": [
        {
          "output_type": "execute_result",
          "data": {
            "text/plain": [
              "array([-0.32307 , -0.87616 ,  0.21977 ,  0.25268 ,  0.22976 ,  0.7388  ,\n",
              "       -0.37954 , -0.35307 , -0.84369 , -1.1113  , -0.30266 ,  0.33178 ,\n",
              "       -0.25113 ,  0.30448 , -0.077491, -0.89815 ,  0.092496, -1.1407  ,\n",
              "       -0.58324 ,  0.66869 ], dtype=float32)"
            ]
          },
          "metadata": {},
          "execution_count": 5
        }
      ]
    },
    {
      "cell_type": "code",
      "source": [
        "# Words to visualize\n",
        "words = [\"king\", \"princess\", \"monarch\", \"throne\", \"crown\",\n",
        "         \"mountain\", \"ocean\", \"tv\", \"rainbow\", \"cloud\", \"queen\"]\n",
        "\n",
        "# Get word vectors\n",
        "vectors = np.array([word_vectors[word] for word in words])"
      ],
      "metadata": {
        "id": "_FOkPCrRi0Sa"
      },
      "execution_count": 6,
      "outputs": []
    },
    {
      "cell_type": "code",
      "source": [
        "# Reduce dimensions using PCA\n",
        "pca = PCA(n_components=2)\n",
        "vectors_pca = pca.fit_transform(vectors)"
      ],
      "metadata": {
        "id": "wzkRmJdHqh8n"
      },
      "execution_count": 7,
      "outputs": []
    },
    {
      "cell_type": "code",
      "source": [
        "# Plotting\n",
        "fig, axes = plt.subplots(1, 1, figsize=(5, 5))\n",
        "axes.scatter(vectors_pca[:, 0], vectors_pca[:, 1])\n",
        "for i, word in enumerate(words):\n",
        "    axes.annotate(word, (vectors_pca[i, 0]+.02, vectors_pca[i, 1]+.02))\n",
        "axes.set_title('PCA of Word Embeddings')\n",
        "plt.show()"
      ],
      "metadata": {
        "colab": {
          "base_uri": "https://localhost:8080/",
          "height": 468
        },
        "id": "SilZur6hq7be",
        "outputId": "5d86d2c8-d7fe-40f8-d901-1eb5c0c4fb1b"
      },
      "execution_count": 8,
      "outputs": [
        {
          "output_type": "display_data",
          "data": {
            "text/plain": [
              "<Figure size 500x500 with 1 Axes>"
            ],
            "image/png": "[encoded data removed]"
          },
          "metadata": {}
        }
      ]
    },
    {
      "cell_type": "markdown",
      "source": [
        "**Word2Vec Algebra**"
      ],
      "metadata": {
        "id": "2bDmLNa7sICI"
      }
    },
    {
      "cell_type": "code",
      "source": [
        "result = word_vectors.most_similar(positive=['king', 'woman'],\n",
        "                                   negative=['man'], topn=1)\n",
        "\n",
        "# Output the result\n",
        "print(f\"\"\"\n",
        "    The word closest to 'king' - 'man' + 'woman' is: '{result[0][0]}'\n",
        "    with a similarity score of {result[0][1]}\"\"\")"
      ],
      "metadata": {
        "colab": {
          "base_uri": "https://localhost:8080/"
        },
        "id": "DQD_Fjl6sG6Z",
        "outputId": "dc1385ac-941c-4903-eaf9-7f9fee5ebd00"
      },
      "execution_count": 9,
      "outputs": [
        {
          "output_type": "stream",
          "name": "stdout",
          "text": [
            "\n",
            "    The word closest to 'king' - 'man' + 'woman' is: 'queen' \n",
            "    with a similarity score of 0.7698540687561035\n"
          ]
        }
      ]
    },
    {
      "cell_type": "code",
      "source": [
        "result = word_vectors.most_similar(positive=['Paris', 'Spain'],\n",
        "                                   negative=['France'], topn=1)\n",
        "\n",
        "# Output the result\n",
        "print(f\"\"\"\n",
        "    The word closest to 'Paris' - 'France' + 'Spain' is: '{result[0][0]}'\n",
        "    with a similarity score of {result[0][1]}\"\"\")"
      ],
      "metadata": {
        "colab": {
          "base_uri": "https://localhost:8080/",
          "height": 356
        },
        "id": "K6bICSGPtioe",
        "outputId": "aa9935fe-e9cb-4e9b-bcbb-8ec2250f7fe7"
      },
      "execution_count": 10,
      "outputs": [
        {
          "output_type": "error",
          "ename": "KeyError",
          "evalue": "\"Key 'Paris' not present in vocabulary\"",
          "traceback": [
            "\u001b[0;31m---------------------------------------------------------------------------\u001b[0m",
            "\u001b[0;31mKeyError\u001b[0m                                  Traceback (most recent call last)",
            "\u001b[0;32m<ipython-input-10-bef3ccf0d2e3>\u001b[0m in \u001b[0;36m<cell line: 1>\u001b[0;34m()\u001b[0m\n\u001b[0;32m----> 1\u001b[0;31m result = word_vectors.most_similar(positive=['Paris', 'Spain'], \n\u001b[0m\u001b[1;32m      2\u001b[0m                                    negative=['France'], topn=1)\n\u001b[1;32m      3\u001b[0m \u001b[0;34m\u001b[0m\u001b[0m\n\u001b[1;32m      4\u001b[0m \u001b[0;31m# Output the result\u001b[0m\u001b[0;34m\u001b[0m\u001b[0;34m\u001b[0m\u001b[0m\n\u001b[1;32m      5\u001b[0m print(f\"\"\"\n",
            "\u001b[0;32m/usr/local/lib/python3.10/dist-packages/gensim/models/keyedvectors.py\u001b[0m in \u001b[0;36mmost_similar\u001b[0;34m(self, positive, negative, topn, clip_start, clip_end, restrict_vocab, indexer)\u001b[0m\n\u001b[1;32m    839\u001b[0m \u001b[0;34m\u001b[0m\u001b[0m\n\u001b[1;32m    840\u001b[0m         \u001b[0;31m# compute the weighted average of all keys\u001b[0m\u001b[0;34m\u001b[0m\u001b[0;34m\u001b[0m\u001b[0m\n\u001b[0;32m--> 841\u001b[0;31m         \u001b[0mmean\u001b[0m \u001b[0;34m=\u001b[0m \u001b[0mself\u001b[0m\u001b[0;34m.\u001b[0m\u001b[0mget_mean_vector\u001b[0m\u001b[0;34m(\u001b[0m\u001b[0mkeys\u001b[0m\u001b[0;34m,\u001b[0m \u001b[0mweight\u001b[0m\u001b[0;34m,\u001b[0m \u001b[0mpre_normalize\u001b[0m\u001b[0;34m=\u001b[0m\u001b[0;32mTrue\u001b[0m\u001b[0;34m,\u001b[0m \u001b[0mpost_normalize\u001b[0m\u001b[0;34m=\u001b[0m\u001b[0;32mTrue\u001b[0m\u001b[0;34m,\u001b[0m \u001b[0mignore_missing\u001b[0m\u001b[0;34m=\u001b[0m\u001b[0;32mFalse\u001b[0m\u001b[0;34m)\u001b[0m\u001b[0;34m\u001b[0m\u001b[0;34m\u001b[0m\u001b[0m\n\u001b[0m\u001b[1;32m    842\u001b[0m         all_keys = [\n\u001b[1;32m    843\u001b[0m             \u001b[0mself\u001b[0m\u001b[0;34m.\u001b[0m\u001b[0mget_index\u001b[0m\u001b[0;34m(\u001b[0m\u001b[0mkey\u001b[0m\u001b[0;34m)\u001b[0m \u001b[0;32mfor\u001b[0m \u001b[0mkey\u001b[0m \u001b[0;32min\u001b[0m \u001b[0mkeys\u001b[0m \u001b[0;32mif\u001b[0m \u001b[0misinstance\u001b[0m\u001b[0;34m(\u001b[0m\u001b[0mkey\u001b[0m\u001b[0;34m,\u001b[0m \u001b[0m_KEY_TYPES\u001b[0m\u001b[0;34m)\u001b[0m \u001b[0;32mand\u001b[0m \u001b[0mself\u001b[0m\u001b[0;34m.\u001b[0m\u001b[0mhas_index_for\u001b[0m\u001b[0;34m(\u001b[0m\u001b[0mkey\u001b[0m\u001b[0;34m)\u001b[0m\u001b[0;34m\u001b[0m\u001b[0;34m\u001b[0m\u001b[0m\n",
            "\u001b[0;32m/usr/local/lib/python3.10/dist-packages/gensim/models/keyedvectors.py\u001b[0m in \u001b[0;36mget_mean_vector\u001b[0;34m(self, keys, weights, pre_normalize, post_normalize, ignore_missing)\u001b[0m\n\u001b[1;32m    516\u001b[0m                 \u001b[0mtotal_weight\u001b[0m \u001b[0;34m+=\u001b[0m \u001b[0mabs\u001b[0m\u001b[0;34m(\u001b[0m\u001b[0mweights\u001b[0m\u001b[0;34m[\u001b[0m\u001b[0midx\u001b[0m\u001b[0;34m]\u001b[0m\u001b[0;34m)\u001b[0m\u001b[0;34m\u001b[0m\u001b[0;34m\u001b[0m\u001b[0m\n\u001b[1;32m    517\u001b[0m             \u001b[0;32melif\u001b[0m \u001b[0;32mnot\u001b[0m \u001b[0mignore_missing\u001b[0m\u001b[0;34m:\u001b[0m\u001b[0;34m\u001b[0m\u001b[0;34m\u001b[0m\u001b[0m\n\u001b[0;32m--> 518\u001b[0;31m                 \u001b[0;32mraise\u001b[0m \u001b[0mKeyError\u001b[0m\u001b[0;34m(\u001b[0m\u001b[0;34mf\"Key '{key}' not present in vocabulary\"\u001b[0m\u001b[0;34m)\u001b[0m\u001b[0;34m\u001b[0m\u001b[0;34m\u001b[0m\u001b[0m\n\u001b[0m\u001b[1;32m    519\u001b[0m \u001b[0;34m\u001b[0m\u001b[0m\n\u001b[1;32m    520\u001b[0m         \u001b[0;32mif\u001b[0m \u001b[0mtotal_weight\u001b[0m \u001b[0;34m>\u001b[0m \u001b[0;36m0\u001b[0m\u001b[0;34m:\u001b[0m\u001b[0;34m\u001b[0m\u001b[0;34m\u001b[0m\u001b[0m\n",
            "\u001b[0;31mKeyError\u001b[0m: \"Key 'Paris' not present in vocabulary\""
          ]
        }
      ]
    },
    {
      "cell_type": "code",
      "source": [
        "# Check if the words are in the vocabulary\n",
        "print(\"'Paris' in vocabulary:\", 'Paris' in word_vectors)\n",
        "print(\"'Spain' in vocabulary:\", 'Spain' in word_vectors)\n",
        "print(\"'France' in vocabulary:\", 'France' in word_vectors)\n",
        "\n",
        "# If any of the words are not in the vocabulary, you will need to either:\n",
        "# 1. Use a different word that is in the vocabulary\n",
        "# 2. Retrain your word embeddings model with a corpus that includes the missing words"
      ],
      "metadata": {
        "colab": {
          "base_uri": "https://localhost:8080/"
        },
        "id": "_ye9A62luBQM",
        "outputId": "90cc90bf-ea78-4aa2-c521-8ed996388137"
      },
      "execution_count": 11,
      "outputs": [
        {
          "output_type": "stream",
          "name": "stdout",
          "text": [
            "'Paris' in vocabulary: False\n",
            "'Spain' in vocabulary: False\n",
            "'France' in vocabulary: False\n"
          ]
        }
      ]
    },
    {
      "cell_type": "markdown",
      "source": [
        "**GloVe vs BERT: Words in Context**"
      ],
      "metadata": {
        "id": "VyjBT5DVtHMF"
      }
    },
    {
      "cell_type": "code",
      "source": [
        "tokenizer = BertTokenizer.from_pretrained('bert-base-uncased')\n",
        "model = BertModel.from_pretrained('bert-base-uncased')\n",
        "\n",
        "# Function to get BERT embeddings\n",
        "def get_bert_embeddings(sentence, word):\n",
        "    inputs = tokenizer(sentence, return_tensors='pt')\n",
        "    outputs = model(**inputs)\n",
        "    last_hidden_states = outputs.last_hidden_state\n",
        "    word_tokens = tokenizer.tokenize(sentence)\n",
        "    word_index = word_tokens.index(word)\n",
        "    word_embedding = last_hidden_states[0, word_index + 1, :]  # +1 to account for [CLS] token\n",
        "    return word_embedding"
      ],
      "metadata": {
        "id": "jVPKPV-1tPzC"
      },
      "execution_count": 12,
      "outputs": []
    },
    {
      "cell_type": "code",
      "source": [
        "sentence = \"The king is sitting on the throne.\"\n",
        "word = \"king\"\n",
        "embedding = get_bert_embeddings(sentence, word)\n",
        "print(embedding)"
      ],
      "metadata": {
        "colab": {
          "base_uri": "https://localhost:8080/"
        },
        "id": "L04BtbRMvRW4",
        "outputId": "0c1f08fc-b22b-41c7-bfde-f129b11f57f6"
      },
      "execution_count": 13,
      "outputs": [
        {
          "output_type": "stream",
          "name": "stdout",
          "text": [
            "tensor([ 1.0745e-01, -4.8916e-02,  3.4856e-01, -5.5628e-02,  1.5455e-01,\n",
            "        -9.5148e-01, -2.8183e-01,  5.2890e-01, -3.5254e-01, -7.0603e-01,\n",
            "         4.2952e-02, -1.9295e-01, -1.4571e-02,  1.9740e-02,  2.3465e-01,\n",
            "        -7.3879e-02, -2.5985e-01, -1.7765e-01,  2.5749e-01,  5.6928e-01,\n",
            "        -8.3714e-01,  1.1860e-01,  5.6556e-02,  2.8272e-01,  2.2099e-01,\n",
            "         3.7261e-01,  3.1754e-01,  9.8186e-01,  1.3532e-01,  4.4859e-01,\n",
            "         7.1985e-01, -1.3824e-01,  1.4005e-01, -2.3764e-02, -7.9947e-02,\n",
            "        -3.2679e-01,  8.0708e-01,  2.1175e-01, -8.7354e-01, -3.1936e-02,\n",
            "        -7.0000e-01, -9.8577e-01,  4.8080e-01,  2.2261e-01, -2.7166e-01,\n",
            "        -8.5299e-01,  5.5627e-02,  2.5537e-01,  1.2071e+00,  2.3642e-01,\n",
            "        -3.6511e-01,  3.1798e-01, -1.0120e+00, -5.8978e-01,  8.0578e-01,\n",
            "         3.9963e-01, -5.6940e-01,  6.5924e-03, -1.3129e-01,  1.3096e-03,\n",
            "        -6.1496e-02,  7.9447e-02, -1.3878e-01, -7.2424e-01,  2.1856e-01,\n",
            "         4.0179e-01, -8.4015e-02,  9.0721e-02, -5.1371e-01,  4.8522e-01,\n",
            "        -3.8820e-01,  5.0491e-01,  5.8360e-01, -1.0347e-01,  6.9354e-01,\n",
            "         1.0363e-01, -1.5480e-01,  3.5989e-01,  6.7656e-02,  3.7451e-01,\n",
            "         1.1250e-01,  8.0971e-01, -2.1995e-02,  1.2326e+00, -4.7062e-01,\n",
            "         5.5892e-02, -3.8426e-01, -5.0157e-02, -5.0677e-02,  1.5637e-01,\n",
            "        -4.0247e-01, -1.7327e-01, -2.4521e-01, -5.2533e-02, -4.2401e-02,\n",
            "        -8.8676e-01,  2.1542e-01,  2.7643e-01,  2.3491e-01, -5.0234e-02,\n",
            "         7.1830e-01, -2.7710e-01,  3.5905e-01,  6.0770e-01, -3.4839e-01,\n",
            "        -1.3546e-01,  1.5407e-01,  8.5601e-01, -2.7037e-01, -2.2679e-03,\n",
            "         3.8663e-01,  2.6227e-01, -1.3924e-02, -1.3675e-01,  1.0926e-01,\n",
            "         8.3843e-01, -8.2889e-02,  7.3573e-02, -5.4758e-01, -1.1741e-01,\n",
            "         2.5255e-01,  4.7677e-01,  3.0123e-01,  8.1430e-01,  4.3652e-01,\n",
            "        -3.6058e-01, -9.3931e-02,  7.4932e-01,  2.1100e-01, -3.5914e-01,\n",
            "         7.3615e-01,  5.9048e-02,  1.1334e-01, -3.6047e-01, -4.1074e-01,\n",
            "         3.8448e-01, -1.7205e-01, -3.2887e-01, -7.2388e-01,  6.6197e-01,\n",
            "         2.0198e-01, -3.9770e-01,  8.6175e-01, -3.3392e-01, -2.1323e-02,\n",
            "         8.6342e-01,  4.3817e-02, -8.1986e-02,  4.9098e-01,  1.3645e-01,\n",
            "         3.6876e-01,  9.5470e-02, -2.5928e-01, -2.0800e-01,  5.8851e-01,\n",
            "         1.1997e-01, -2.2174e-01,  5.9450e-01,  4.0567e-01, -7.4574e-02,\n",
            "        -2.5518e-01,  1.5226e-01, -2.8842e-01,  7.8045e-01, -7.4589e-02,\n",
            "         3.9624e-01, -3.4369e-01,  1.9977e-01, -7.8694e-02, -5.0334e-01,\n",
            "        -9.3971e-01,  1.1349e-02,  2.6416e-01, -4.9307e-01, -5.5037e-01,\n",
            "        -6.3679e-01,  6.4251e-02,  2.9726e-01,  5.8715e-01,  2.9321e-01,\n",
            "        -5.4996e-02,  2.2157e-01,  3.7660e-01, -2.3327e-01,  8.7130e-01,\n",
            "         6.6682e-02,  9.9815e-01, -4.5547e-01, -2.4264e-01, -2.1421e-01,\n",
            "         3.0656e-01, -2.5637e-01,  6.4545e-01, -7.0267e-01,  3.0340e-01,\n",
            "         1.3591e-01, -2.3362e-01, -2.1872e-01, -7.1885e-01,  2.2448e-01,\n",
            "        -5.1282e-01, -4.1272e-01,  4.3179e-01, -1.4929e-01, -1.2127e-01,\n",
            "         2.7176e-01, -8.8017e-02, -5.1215e-01,  8.2773e-01,  5.0545e-02,\n",
            "        -3.8693e-01,  7.0313e-01, -3.8348e-01,  5.2361e-01,  1.0635e-01,\n",
            "        -3.6154e-01, -3.9999e-01, -3.2933e-01,  4.0947e-01,  1.1710e-01,\n",
            "         2.0213e-01,  9.4357e-02, -2.9048e-01,  6.1152e-01, -7.2061e-01,\n",
            "         1.6340e+00,  1.7357e-01, -3.7506e-01, -1.3782e-01,  3.0432e-01,\n",
            "        -2.1857e-01,  6.4326e-01,  1.0227e-01,  2.3189e-01, -8.9551e-01,\n",
            "        -1.5210e-01, -2.9516e-01,  1.5896e-01, -3.4307e-01,  1.1922e-01,\n",
            "        -5.9010e-02, -1.1032e-01, -1.8495e-01,  6.4637e-01,  1.9519e-01,\n",
            "         4.0334e-01, -1.8581e-01,  4.1418e-01, -2.2545e-02,  1.4719e-01,\n",
            "         1.2659e-01, -1.0507e+00,  3.5035e-01, -3.5022e-01, -5.8957e-01,\n",
            "         1.5011e-01,  2.4888e-03,  7.1361e-01, -1.1559e+00,  1.0079e-01,\n",
            "        -3.3442e-01,  4.9137e-02,  4.3840e-01,  2.1064e-02, -7.7275e-01,\n",
            "        -5.4113e-01,  1.1694e-01,  3.5693e-01,  1.7184e-01,  4.4516e-01,\n",
            "         1.0380e-01, -2.0116e-01,  2.8939e-02,  1.1905e-01, -2.9019e-01,\n",
            "        -3.8720e-01,  6.8510e-01, -2.6771e-01,  2.3222e-01, -4.4031e-01,\n",
            "         1.1735e+00,  1.4400e+00, -3.0853e-01,  3.7648e-01,  6.7839e-01,\n",
            "        -8.6883e-01,  3.3812e-01,  7.4798e-01,  1.7380e-01, -6.6566e-01,\n",
            "        -3.7460e-01,  7.0978e-01,  1.3516e-01, -3.2742e-01,  6.9116e-01,\n",
            "        -4.7712e-01,  2.6839e-01,  2.9130e-01,  6.9694e-01, -8.3311e-02,\n",
            "        -5.5950e-01, -2.3054e-01,  1.3161e-01,  5.0578e-01,  1.4317e-01,\n",
            "         3.6807e-01, -2.9324e-01,  4.2214e-01, -4.8892e+00, -1.8758e-01,\n",
            "        -4.2598e-02,  1.8414e-01,  4.8870e-01,  1.9877e-01, -6.9753e-01,\n",
            "        -3.1001e-01, -3.0943e-01,  1.9020e-01,  1.7964e-01, -5.9535e-01,\n",
            "         2.0568e-01,  1.0196e-01,  1.0106e+00,  5.6957e-01, -5.5659e-01,\n",
            "        -5.9892e-01,  5.2090e-01,  3.5172e-01,  1.0886e-01, -1.1778e-01,\n",
            "        -4.7917e-01, -5.5700e-03,  2.2844e-01,  1.0447e+00, -4.1733e-01,\n",
            "         3.0925e-01, -4.7726e-01, -4.6886e-01, -2.3980e-01,  1.1384e-01,\n",
            "         8.5378e-01, -1.0650e+00, -4.9802e-01, -1.8994e-01, -1.6534e-01,\n",
            "         8.1762e-03,  2.2154e-01, -8.4918e-02,  3.0291e-01, -9.0839e-01,\n",
            "        -3.1737e-01,  1.1225e-01,  2.9567e-01, -3.1254e-01, -7.2531e-01,\n",
            "        -1.0784e-01, -2.6140e-01,  1.7745e-03,  4.5470e-02,  3.7568e-02,\n",
            "        -2.4340e-01, -4.1203e-01, -1.7529e-01,  6.5849e-01, -2.3901e-01,\n",
            "         8.2205e-01, -5.6437e-01, -2.1409e-02, -2.1715e-02, -2.9459e-01,\n",
            "        -6.2759e-01, -1.1240e-01, -2.2547e-01, -1.0118e+00, -6.5432e-02,\n",
            "         5.2150e-02, -2.1526e-01,  2.2140e-01, -4.3668e-01, -6.7780e-01,\n",
            "        -3.7021e-01, -1.4945e+00, -6.4375e-01, -7.9569e-01,  5.0087e-01,\n",
            "         1.2331e-02,  1.0801e-01, -5.4264e-01, -5.6031e-01, -1.0993e+00,\n",
            "         6.7098e-01, -2.7479e-01, -1.1049e-01, -6.4691e-01, -1.0219e-01,\n",
            "         4.0477e-01, -9.2397e-02,  1.4134e-01,  2.6849e-01,  2.3095e-01,\n",
            "        -9.5434e-02, -6.0147e-01,  5.0629e-02, -4.0655e-01, -4.8929e-01,\n",
            "        -1.4411e-01,  3.6438e-01,  1.1096e-01, -3.3230e-01, -4.1777e-01,\n",
            "         3.0134e-01,  2.1257e-01,  1.6187e-01,  2.0616e-01,  3.1066e-01,\n",
            "        -2.3271e-01, -9.9040e-01,  6.6935e-01,  3.6100e-01, -5.7964e-01,\n",
            "         6.0573e-01, -2.0448e-01, -2.5956e-01, -5.9955e-01,  2.0867e-01,\n",
            "         2.3621e-01,  1.9045e-01,  5.5844e-02, -2.9095e-01,  9.1339e-01,\n",
            "         4.6711e-02,  1.7939e-01,  3.1892e-01,  2.7413e-02, -2.5943e-01,\n",
            "        -1.2669e-01,  2.9298e-01, -3.3595e-01,  7.9135e-02,  1.9662e-01,\n",
            "         1.2150e-01,  1.7069e-01,  1.8025e-01,  2.7569e-01, -4.0453e-01,\n",
            "        -1.0396e+00, -1.2065e+00,  5.8052e-02,  1.4890e-02,  3.3871e-01,\n",
            "         5.7356e-04,  2.5670e-01, -5.1859e-01, -3.6880e-01, -3.5673e-01,\n",
            "         6.6964e-01, -3.3629e-01,  4.9409e-01,  2.3111e-01,  1.0865e-01,\n",
            "         5.1371e-02, -2.3980e-02, -1.0269e-01, -1.0736e+00,  5.9089e-01,\n",
            "         1.3529e-01,  1.4289e-02, -3.4223e-01, -2.4836e-01,  2.3747e-01,\n",
            "         1.0897e-01,  4.4618e-01, -5.3953e-01,  3.6917e-01, -1.7977e-01,\n",
            "        -8.5285e-02,  5.1106e-02,  5.4952e-01, -7.0328e-02, -2.8150e-01,\n",
            "        -4.0862e-01, -3.6924e-01, -3.2985e-01,  5.2061e-01, -3.8356e-01,\n",
            "        -9.1552e-01, -4.3885e-01,  4.6448e-01, -2.4351e-01,  6.4468e-01,\n",
            "         5.1061e-01, -8.7252e-01, -7.2526e-02,  5.3938e-01,  5.8522e-01,\n",
            "        -7.2537e-01,  9.1852e-02,  6.6876e-02, -8.0718e-01,  5.9425e-01,\n",
            "        -8.6242e-01, -9.6285e-02, -7.5518e-01, -6.1669e-01,  9.8786e-02,\n",
            "         4.4823e-01,  7.1915e-01,  8.9084e-01, -1.5603e-01,  1.8144e-01,\n",
            "         1.5092e-01, -1.6059e-01,  1.1523e-01, -2.3621e-01,  5.4392e-01,\n",
            "        -1.2295e-01, -4.7966e-01,  2.6792e-01, -1.2861e+00, -1.2141e+00,\n",
            "        -9.8785e-02, -2.0256e-01, -2.8894e-01,  2.1517e-01, -3.0862e-01,\n",
            "        -4.5895e-01,  3.5656e-01,  5.5061e-01, -2.7203e-01, -1.7525e-01,\n",
            "        -3.1698e-01,  2.0140e-01, -7.1913e-01, -1.0046e+00,  7.2194e-01,\n",
            "         3.6384e-01,  1.9908e-01, -4.3083e-01,  1.6933e-01,  5.1948e-01,\n",
            "        -2.4305e-01,  4.2614e-01, -1.0046e-01,  3.7168e-02, -2.3494e-01,\n",
            "        -1.0906e+00, -2.8659e-01,  3.4326e-01,  1.3007e-01, -3.5724e-01,\n",
            "        -5.3408e-02,  3.6671e-01,  1.4017e-01,  8.2642e-01,  4.5479e-01,\n",
            "         8.0026e-01, -3.0571e-01,  2.4276e-01, -5.2953e-01,  3.9993e-01,\n",
            "         7.7977e-01,  3.4505e-01, -1.4501e-01,  3.8194e-01,  7.1774e-01,\n",
            "         7.7786e-01,  1.6104e-01, -2.3204e-01, -1.2294e-02, -1.0079e-01,\n",
            "         7.5334e-02,  3.6616e-01,  4.4235e-01, -1.2294e-02, -5.8093e-01,\n",
            "         4.7681e-02,  4.9147e-02,  3.5427e-01, -6.4447e-01, -5.5178e-01,\n",
            "        -2.6005e-01, -3.9966e-01, -4.3893e-01,  4.3539e-01, -8.3710e-01,\n",
            "        -2.7915e-01, -1.8426e-01,  1.0304e-01, -7.8545e-01,  5.5880e-01,\n",
            "        -7.9122e-01, -2.6613e-01, -6.8435e-01,  1.9890e-01, -2.0377e-01,\n",
            "         4.8525e-01, -4.1661e-01,  7.2145e-02,  3.8845e-01,  9.1007e-01,\n",
            "         6.1423e-01,  5.2952e-01, -1.3582e-01,  2.8962e-01,  9.8668e-01,\n",
            "         2.6905e-01, -4.8245e-01, -4.9405e-02, -6.8368e-01,  9.4460e-02,\n",
            "        -1.8372e-01,  1.1353e-01,  8.7369e-01,  4.0400e-02, -3.4417e-01,\n",
            "        -1.9615e-01,  1.8732e-01,  4.4722e-01,  2.6824e-01, -2.5729e-01,\n",
            "         9.1520e-01,  6.0025e-01, -2.7422e-01, -3.6060e-01,  5.8199e-01,\n",
            "        -6.3023e-01, -5.8161e-01, -3.1456e-01, -2.4449e-01, -1.2022e-01,\n",
            "         6.0536e-01, -4.1339e-02,  1.5701e-01,  1.0011e+00, -2.6567e-01,\n",
            "         1.5097e-01,  6.9115e-01, -2.3643e-01,  8.6598e-02,  5.5295e-01,\n",
            "        -6.1424e-01,  3.7863e-01,  2.3372e-01, -4.1805e-01,  3.8396e-01,\n",
            "         1.2643e+00,  1.3965e-01,  2.4032e-01,  2.4571e-02, -3.9238e-01,\n",
            "        -8.1815e-01,  4.3707e-01,  1.3873e-01, -2.5813e-01, -1.7761e-01,\n",
            "        -5.3762e-01,  7.3593e-01, -2.4674e-01, -1.1440e-01,  8.3945e-01,\n",
            "        -3.0333e-01,  1.2430e-01,  3.2773e-01,  5.7837e-01, -7.8168e-02,\n",
            "         1.6562e-03,  3.6341e-02,  1.3406e-01, -2.1362e-02, -2.4408e-01,\n",
            "         6.3082e-01,  3.6242e-01, -4.6045e-01,  2.5244e-01,  1.4583e-01,\n",
            "        -4.7759e-01, -2.6716e-01, -2.4060e-01,  3.6586e-01, -4.1560e-01,\n",
            "         4.6539e-01,  2.3881e-01, -4.0868e-01, -3.5663e-01, -3.3068e-01,\n",
            "        -1.0353e+00, -7.9885e-02, -2.4286e-01,  3.0437e-01, -2.3936e-01,\n",
            "        -5.3068e-01,  2.5481e-01, -5.5899e-01,  4.6268e-01, -1.6329e-01,\n",
            "        -3.0128e-01, -5.2166e-01, -1.9871e-01, -3.8855e-02,  7.4998e-02,\n",
            "         3.4720e-01, -4.9968e-01, -4.3849e-01, -8.9041e-01,  1.0045e-01,\n",
            "         2.6337e-01,  9.0406e-02,  8.4258e-01,  9.9228e-01,  1.6048e-01,\n",
            "        -2.9221e-01, -1.8426e-01,  2.0252e-01,  5.1758e-01,  1.4874e-01,\n",
            "        -5.8415e-01, -9.3893e-01, -6.2573e-01,  5.4565e-02,  3.6626e-01,\n",
            "        -5.4125e-01, -2.1905e-01, -7.9516e-01,  2.6164e-01,  2.5193e-01,\n",
            "        -3.6081e-01,  1.8183e-01, -2.9523e-01,  3.3876e-01,  5.8730e-01,\n",
            "         2.7520e-01,  4.7858e-01,  1.4308e-01, -3.7266e-01,  7.5538e-01,\n",
            "         7.0751e-01,  5.4496e-01, -1.4772e-01, -8.0709e-01, -4.2375e-01,\n",
            "        -7.9425e-01, -5.6904e-01, -1.5026e-01, -2.5539e-01,  5.2654e-01,\n",
            "         1.9397e-01,  1.2986e-01, -6.7586e-01, -1.5343e-01,  3.1381e-01,\n",
            "        -1.2687e-01, -2.4306e-02, -2.0994e-01, -1.0543e+00, -1.3065e+00,\n",
            "        -3.0305e-02, -2.2758e-02,  1.7459e-01, -4.4586e-02,  1.8699e-02,\n",
            "         2.6694e-01,  4.7279e-01,  1.8955e-01,  7.9722e-01,  2.9026e-02,\n",
            "        -6.9138e-01, -7.5405e-03, -8.2192e-01], grad_fn=<SliceBackward0>)\n"
          ]
        }
      ]
    },
    {
      "cell_type": "code",
      "source": [
        "print(embedding.shape)"
      ],
      "metadata": {
        "colab": {
          "base_uri": "https://localhost:8080/"
        },
        "id": "zO-iYWQe04Z1",
        "outputId": "6d168bfe-abba-421e-e0ed-9ff0300e6a10"
      },
      "execution_count": 14,
      "outputs": [
        {
          "output_type": "stream",
          "name": "stdout",
          "text": [
            "torch.Size([768])\n"
          ]
        }
      ]
    },
    {
      "cell_type": "code",
      "source": [
        "sentence1 = \"The bat flew out of the cave at night.\"\n",
        "sentence2 = \"He swung the bat and hit a home run.\"\n",
        "\n",
        "word = \"bat\"\n",
        "\n",
        "bert_embedding1 = get_bert_embeddings(sentence1, word).detach().numpy()\n",
        "bert_embedding2 = get_bert_embeddings(sentence2, word).detach().numpy()\n",
        "word_embedding = word_vectors[word]"
      ],
      "metadata": {
        "id": "uM-C4ZyHvfYZ"
      },
      "execution_count": 15,
      "outputs": []
    },
    {
      "cell_type": "code",
      "source": [
        "print(\"BERT Embedding for 'bat' in sentence 1:\", bert_embedding1[:5])\n",
        "print(\"BERT Embedding for 'bat' in sentence 2:\", bert_embedding2[:5])\n",
        "print(\"GloVe Embedding for 'bat':\", word_embedding[:5])\n",
        "\n",
        "bert_similarity = cosine_similarity([bert_embedding1], [bert_embedding2])[0][0]\n",
        "word_embedding_similarity = cosine_similarity([word_embedding], [word_embedding])[0][0]\n",
        "\n",
        "print()\n",
        "print(f\"Cosine Similarity between BERT embeddings in different contexts: {bert_similarity}\")\n",
        "print(f\"Cosine Similarity between GloVe embeddings: {word_embedding_similarity}\")\n"
      ],
      "metadata": {
        "colab": {
          "base_uri": "https://localhost:8080/"
        },
        "id": "xbdVGx0tvj-N",
        "outputId": "475d023f-37a5-4be5-ed44-4f465fe3d3c6"
      },
      "execution_count": 16,
      "outputs": [
        {
          "output_type": "stream",
          "name": "stdout",
          "text": [
            "BERT Embedding for 'bat' in sentence 1: [ 0.4131613  -0.12908208 -0.44865727 -0.40492675 -0.15305734]\n",
            "BERT Embedding for 'bat' in sentence 2: [ 0.64066994 -0.31121498 -0.44089845 -0.16551109 -0.2005611 ]\n",
            "GloVe Embedding for 'bat': [-0.47601  0.81705  0.11151 -0.22687 -0.80672]\n",
            "\n",
            "Cosine Similarity between BERT embeddings in different contexts: 0.459957480430603\n",
            "Cosine Similarity between GloVe embeddings: 1.0\n"
          ]
        }
      ]
    },
    {
      "cell_type": "markdown",
      "source": [
        "**Cross Encoder**"
      ],
      "metadata": {
        "id": "xHZO6LblwScm"
      }
    },
    {
      "cell_type": "code",
      "source": [
        "!pip install -U sentence-transformers"
      ],
      "metadata": {
        "colab": {
          "base_uri": "https://localhost:8080/"
        },
        "id": "LVxqTuDbzhYo",
        "outputId": "2f891857-d239-4747-d4f2-c6a2dab1e2cc"
      },
      "execution_count": 17,
      "outputs": [
        {
          "output_type": "stream",
          "name": "stdout",
          "text": [
            "Requirement already satisfied: sentence-transformers in /usr/local/lib/python3.10/dist-packages (3.0.1)\n",
            "Requirement already satisfied: transformers<5.0.0,>=4.34.0 in /usr/local/lib/python3.10/dist-packages (from sentence-transformers) (4.42.4)\n",
            "Requirement already satisfied: tqdm in /usr/local/lib/python3.10/dist-packages (from sentence-transformers) (4.66.5)\n",
            "Requirement already satisfied: torch>=1.11.0 in /usr/local/lib/python3.10/dist-packages (from sentence-transformers) (2.4.0+cu121)\n",
            "Requirement already satisfied: numpy in /usr/local/lib/python3.10/dist-packages (from sentence-transformers) (1.26.4)\n",
            "Requirement already satisfied: scikit-learn in /usr/local/lib/python3.10/dist-packages (from sentence-transformers) (1.3.2)\n",
            "Requirement already satisfied: scipy in /usr/local/lib/python3.10/dist-packages (from sentence-transformers) (1.13.1)\n",
            "Requirement already satisfied: huggingface-hub>=0.15.1 in /usr/local/lib/python3.10/dist-packages (from sentence-transformers) (0.23.5)\n",
            "Requirement already satisfied: Pillow in /usr/local/lib/python3.10/dist-packages (from sentence-transformers) (9.4.0)\n",
            "Requirement already satisfied: filelock in /usr/local/lib/python3.10/dist-packages (from huggingface-hub>=0.15.1->sentence-transformers) (3.15.4)\n",
            "Requirement already satisfied: fsspec>=2023.5.0 in /usr/local/lib/python3.10/dist-packages (from huggingface-hub>=0.15.1->sentence-transformers) (2024.6.1)\n",
            "Requirement already satisfied: packaging>=20.9 in /usr/local/lib/python3.10/dist-packages (from huggingface-hub>=0.15.1->sentence-transformers) (24.1)\n",
            "Requirement already satisfied: pyyaml>=5.1 in /usr/local/lib/python3.10/dist-packages (from huggingface-hub>=0.15.1->sentence-transformers) (6.0.2)\n",
            "Requirement already satisfied: requests in /usr/local/lib/python3.10/dist-packages (from huggingface-hub>=0.15.1->sentence-transformers) (2.32.3)\n",
            "Requirement already satisfied: typing-extensions>=3.7.4.3 in /usr/local/lib/python3.10/dist-packages (from huggingface-hub>=0.15.1->sentence-transformers) (4.12.2)\n",
            "Requirement already satisfied: sympy in /usr/local/lib/python3.10/dist-packages (from torch>=1.11.0->sentence-transformers) (1.13.2)\n",
            "Requirement already satisfied: networkx in /usr/local/lib/python3.10/dist-packages (from torch>=1.11.0->sentence-transformers) (3.3)\n",
            "Requirement already satisfied: jinja2 in /usr/local/lib/python3.10/dist-packages (from torch>=1.11.0->sentence-transformers) (3.1.4)\n",
            "Requirement already satisfied: regex!=2019.12.17 in /usr/local/lib/python3.10/dist-packages (from transformers<5.0.0,>=4.34.0->sentence-transformers) (2024.5.15)\n",
            "Requirement already satisfied: safetensors>=0.4.1 in /usr/local/lib/python3.10/dist-packages (from transformers<5.0.0,>=4.34.0->sentence-transformers) (0.4.4)\n",
            "Requirement already satisfied: tokenizers<0.20,>=0.19 in /usr/local/lib/python3.10/dist-packages (from transformers<5.0.0,>=4.34.0->sentence-transformers) (0.19.1)\n",
            "Requirement already satisfied: joblib>=1.1.1 in /usr/local/lib/python3.10/dist-packages (from scikit-learn->sentence-transformers) (1.4.2)\n",
            "Requirement already satisfied: threadpoolctl>=2.0.0 in /usr/local/lib/python3.10/dist-packages (from scikit-learn->sentence-transformers) (3.5.0)\n",
            "Requirement already satisfied: MarkupSafe>=2.0 in /usr/local/lib/python3.10/dist-packages (from jinja2->torch>=1.11.0->sentence-transformers) (2.1.5)\n",
            "Requirement already satisfied: charset-normalizer<4,>=2 in /usr/local/lib/python3.10/dist-packages (from requests->huggingface-hub>=0.15.1->sentence-transformers) (3.3.2)\n",
            "Requirement already satisfied: idna<4,>=2.5 in /usr/local/lib/python3.10/dist-packages (from requests->huggingface-hub>=0.15.1->sentence-transformers) (3.8)\n",
            "Requirement already satisfied: urllib3<3,>=1.21.1 in /usr/local/lib/python3.10/dist-packages (from requests->huggingface-hub>=0.15.1->sentence-transformers) (2.0.7)\n",
            "Requirement already satisfied: certifi>=2017.4.17 in /usr/local/lib/python3.10/dist-packages (from requests->huggingface-hub>=0.15.1->sentence-transformers) (2024.7.4)\n",
            "Requirement already satisfied: mpmath<1.4,>=1.1.0 in /usr/local/lib/python3.10/dist-packages (from sympy->torch>=1.11.0->sentence-transformers) (1.3.0)\n"
          ]
        }
      ]
    },
    {
      "cell_type": "code",
      "source": [
        "from sentence_transformers import CrossEncoder\n",
        "model = CrossEncoder('cross-encoder/ms-marco-MiniLM-L-6-v2', max_length=512,\n",
        "                     default_activation_function=torch.nn.Sigmoid())"
      ],
      "metadata": {
        "id": "D_HiGGa9wYRq"
      },
      "execution_count": 18,
      "outputs": []
    },
    {
      "cell_type": "code",
      "source": [
        "question = \"Where is the capital of France?\"\n",
        "# Define sentences to compare\n",
        "answers = [\n",
        "    \"Paris is the capital of France.\",\n",
        "    \"Berlin is the capital of Germany.\",\n",
        "    \"Madrid is the capital of Spain.\"\n",
        "]"
      ],
      "metadata": {
        "id": "StIMysFDw23n"
      },
      "execution_count": 19,
      "outputs": []
    },
    {
      "cell_type": "code",
      "source": [
        "scores = model.predict([(question, answers[0]), (question, answers[1]),\n",
        "                        (question, answers[2])])\n",
        "print(scores)\n",
        "most_relevant_idx = torch.argmax(torch.tensor(scores)).item()\n",
        "print(f\"The most relevant passage is: {answers[most_relevant_idx]}\")"
      ],
      "metadata": {
        "colab": {
          "base_uri": "https://localhost:8080/"
        },
        "id": "q4Mgj4MBw39c",
        "outputId": "6b2925b5-d924-462b-d2bc-256a178a1a76"
      },
      "execution_count": 20,
      "outputs": [
        {
          "output_type": "stream",
          "name": "stdout",
          "text": [
            "[0.99965715 0.0528962  0.04520684]\n",
            "The most relevant passage is: Paris is the capital of France.\n"
          ]
        }
      ]
    }
  ]
}